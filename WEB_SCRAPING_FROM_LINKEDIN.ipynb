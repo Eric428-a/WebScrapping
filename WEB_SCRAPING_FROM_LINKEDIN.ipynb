{
  "nbformat": 4,
  "nbformat_minor": 0,
  "metadata": {
    "colab": {
      "provenance": [],
      "authorship_tag": "ABX9TyOyO3g7BNeSEl37+Xqyzkdz",
      "include_colab_link": true
    },
    "kernelspec": {
      "name": "python3",
      "display_name": "Python 3"
    },
    "language_info": {
      "name": "python"
    }
  },
  "cells": [
    {
      "cell_type": "markdown",
      "metadata": {
        "id": "view-in-github",
        "colab_type": "text"
      },
      "source": [
        "<a href=\"https://colab.research.google.com/github/Eric428-a/WebScrapping/blob/main/WEB_SCRAPING_FROM_LINKEDIN.ipynb\" target=\"_parent\"><img src=\"https://colab.research.google.com/assets/colab-badge.svg\" alt=\"Open In Colab\"/></a>"
      ]
    },
    {
      "cell_type": "code",
      "source": [
        "import requests\n",
        "import csv\n",
        "from bs4 import BeautifulSoup\n",
        "import time\n",
        "\n",
        "def scrape_linkedin_jobs(query, location):\n",
        "    # LinkedIn job search URL\n",
        "    url = f\"https://www.linkedin.com/jobs/search/?keywords={query}&location={location}\"\n",
        "\n",
        "    # Send a GET request to the LinkedIn job search URL\n",
        "    response = requests.get(url)\n",
        "\n",
        "    # Check if the request was successful\n",
        "    if response.status_code == 200:\n",
        "        # Parse the HTML response\n",
        "        soup = BeautifulSoup(response.content, \"html.parser\")\n",
        "\n",
        "        # Find all job listings\n",
        "        job_listings = soup.find_all('li', class_='result-card')\n",
        "\n",
        "        # Write the scraped data to a CSV file\n",
        "        try:\n",
        "            with open('job_data_linkedin.csv', 'w', newline='', encoding='utf-8') as csvfile:\n",
        "                csv_writer = csv.writer(csvfile)\n",
        "                # Write header row\n",
        "                csv_writer.writerow(['Job Title', 'Company', 'Location', 'Description'])\n",
        "\n",
        "                # Iterate through each job listing and extract relevant information\n",
        "                for job in job_listings:\n",
        "                    job_title = job.find('h3', class_='result-card__title').text.strip()\n",
        "                    company = job.find('a', class_='result-card__subtitle-link').text.strip()\n",
        "                    location = job.find('span', class_='job-result-card__location').text.strip()\n",
        "                    description = job.find('p', class_='result-card__snippet').text.strip()\n",
        "\n",
        "                    # Write the extracted information to the CSV file\n",
        "                    csv_writer.writerow([job_title, company, location, description])\n",
        "\n",
        "            return \"Scraped data saved to job_data_linkedin.csv\"\n",
        "        except Exception as e:\n",
        "            return f\"Error: Failed to save data - {e}\"\n",
        "    else:\n",
        "        return f\"Error: Failed to scrape data from LinkedIn - Status code {response.status_code}\"\n",
        "\n",
        "# Get search parameters from user input\n",
        "query = input(\"Enter the job title or keywords: \")\n",
        "location = input(\"Enter the location (city, state, or country): \")\n",
        "\n",
        "# Call the function to scrape and save data from LinkedIn\n",
        "message = scrape_linkedin_jobs(query, location)\n",
        "\n",
        "# Display message to user\n",
        "print(message)\n"
      ],
      "metadata": {
        "colab": {
          "base_uri": "https://localhost:8080/"
        },
        "id": "tBxFNGwh5jSa",
        "outputId": "bdd11ca8-2f12-48d3-8052-2c64fd351d47"
      },
      "execution_count": 7,
      "outputs": [
        {
          "output_type": "stream",
          "name": "stdout",
          "text": [
            "Enter the job title or keywords: data\n",
            "Enter the location (city, state, or country): USA\n",
            "Scraped data saved to job_data_linkedin.csv\n"
          ]
        }
      ]
    }
  ]
}