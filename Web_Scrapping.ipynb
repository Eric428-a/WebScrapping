{
  "nbformat": 4,
  "nbformat_minor": 0,
  "metadata": {
    "colab": {
      "provenance": [],
      "authorship_tag": "ABX9TyMTDkAOvb5tL/lu9IBS5vUe",
      "include_colab_link": true
    },
    "kernelspec": {
      "name": "python3",
      "display_name": "Python 3"
    },
    "language_info": {
      "name": "python"
    }
  },
  "cells": [
    {
      "cell_type": "markdown",
      "metadata": {
        "id": "view-in-github",
        "colab_type": "text"
      },
      "source": [
        "<a href=\"https://colab.research.google.com/github/Eric428-a/WebScrapping/blob/main/Web_Scrapping.ipynb\" target=\"_parent\"><img src=\"https://colab.research.google.com/assets/colab-badge.svg\" alt=\"Open In Colab\"/></a>"
      ]
    },
    {
      "cell_type": "code",
      "source": [],
      "metadata": {
        "id": "foCB8T0o3OVM"
      },
      "execution_count": null,
      "outputs": []
    },
    {
      "cell_type": "code",
      "source": [],
      "metadata": {
        "id": "AQLYDWVC3z_C"
      },
      "execution_count": null,
      "outputs": []
    },
    {
      "cell_type": "code",
      "source": [
        "import requests\n",
        "import bs4\n",
        "import csv\n",
        "\n",
        "def scrape_and_save(query, location):\n",
        "    # Google search URL for job listings\n",
        "    url = f'https://www.google.com/search?q={query}+jobs+in+{location}'\n",
        "\n",
        "    # Set User-Agent header to mimic a web browser\n",
        "    headers = {\n",
        "        'User-Agent': 'Mozilla/5.0 (Windows NT 10.0; Win64; x64) AppleWebKit/537.36 (KHTML, like Gecko) Chrome/58.0.3029.110 Safari/537.3'\n",
        "    }\n",
        "\n",
        "    # Send a GET request to the Google search URL\n",
        "    response = requests.get(url, headers=headers)\n",
        "\n",
        "    # Check if the request was successful\n",
        "    if response.status_code == 200:\n",
        "        # Parse the HTML response\n",
        "        soup = bs4.BeautifulSoup(response.content, \"html.parser\")\n",
        "\n",
        "        # Find all job listings\n",
        "        job_listings = soup.find_all('div', class_='tF2Cxc')\n",
        "\n",
        "        # Write the scraped data to a CSV file\n",
        "        try:\n",
        "            with open('job_data_google.csv', 'w', newline='', encoding='utf-8') as csvfile:\n",
        "                csv_writer = csv.writer(csvfile)\n",
        "                # Write header row\n",
        "                csv_writer.writerow(['Job Title', 'Company', 'Location', 'Description'])\n",
        "\n",
        "                # Iterate through each job listing and extract relevant information\n",
        "                for job in job_listings:\n",
        "                    job_title = job.find('h3').text.strip()\n",
        "                    company = job.find('span', class_='tT5Wve').text.strip()\n",
        "                    location = job.find('span', class_='fYyStc').text.strip()\n",
        "                    description = job.find('span', class_='hgKElc').text.strip()\n",
        "\n",
        "                    # Write the extracted information to the CSV file\n",
        "                    csv_writer.writerow([job_title, company, location, description])\n",
        "\n",
        "            return \"Scraped data saved to job_data_google.csv\"\n",
        "        except Exception as e:\n",
        "            return f\"Error: Failed to save data - {e}\"\n",
        "    else:\n",
        "        return f\"Error: Failed to scrape data from Google - Status code {response.status_code}\"\n",
        "\n",
        "# Get search parameters from user input\n",
        "query = input(\"Enter the job title or keywords: \")\n",
        "location = input(\"Enter the location (city, state, or country): \")\n",
        "\n",
        "# Call the function to scrape and save data from Google\n",
        "message = scrape_and_save(query, location)\n",
        "\n",
        "# Display message to user\n",
        "print(message)\n"
      ],
      "metadata": {
        "colab": {
          "base_uri": "https://localhost:8080/"
        },
        "id": "CZEsUUM-30B2",
        "outputId": "117362eb-d90e-47b9-f38b-80944224594a"
      },
      "execution_count": 10,
      "outputs": [
        {
          "output_type": "stream",
          "name": "stdout",
          "text": [
            "Enter the job title or keywords: steel jobs\n",
            "Enter the location (city, state, or country): USA\n",
            "Scraped data saved to job_data_google.csv\n"
          ]
        }
      ]
    }
  ]
}